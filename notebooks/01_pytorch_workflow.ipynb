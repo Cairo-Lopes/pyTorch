{
  "cells": [
    {
      "cell_type": "markdown",
      "metadata": {
        "id": "0uuAhHe_Vukw"
      },
      "source": [
        "# PyTorch Workglow\n",
        "\n",
        "Let's explore a an example PyTorch end-to-end workflow.\n",
        "Resources:"
      ]
    },
    {
      "cell_type": "code",
      "execution_count": 1,
      "metadata": {
        "colab": {
          "base_uri": "https://localhost:8080/"
        },
        "id": "Xn9OiBTKTYNE",
        "outputId": "f54a94ee-0088-476d-f737-aca7e9a27326"
      },
      "outputs": [
        {
          "data": {
            "text/plain": [
              "{1: 'data (prepare and load)',\n",
              " 2: 'build model',\n",
              " 3: 'fitting the model to data (training)',\n",
              " 4: 'making predictions and evaluting a model (inference)',\n",
              " 5: 'saving and loading a model',\n",
              " 6: 'putting all together'}"
            ]
          },
          "execution_count": 1,
          "metadata": {},
          "output_type": "execute_result"
        }
      ],
      "source": [
        "what_were_covering = {1: \"data (prepare and load)\",\n",
        "                       2: \"build model\",\n",
        "                       3: \"fitting the model to data (training)\",\n",
        "                       4: \"making predictions and evaluating a model (inference)\",\n",
        "                       5: \"saving and loading a model\",\n",
        "                       6: \"putting all together\"}\n",
        "\n",
        "what_were_covering\n"
      ]
    },
    {
      "cell_type": "code",
      "execution_count": 2,
      "metadata": {
        "colab": {
          "base_uri": "https://localhost:8080/",
          "height": 35
        },
        "id": "FQ6mFiSDWie9",
        "outputId": "34ebd06c-7c7b-4b9a-c592-3ecb1924e1b3"
      },
      "outputs": [
        {
          "data": {
            "application/vnd.google.colaboratory.intrinsic+json": {
              "type": "string"
            },
            "text/plain": [
              "'2.1.0+cu118'"
            ]
          },
          "execution_count": 2,
          "metadata": {},
          "output_type": "execute_result"
        }
      ],
      "source": [
        "import torch\n",
        "from torch import nn # nn contains all of PyTorch's building blocks for graphs\n",
        "import matplotlib.pyplot as plt\n",
        "\n",
        "torch.__version__"
      ]
    },
    {
      "cell_type": "markdown",
      "metadata": {
        "id": "qQC68AvrW-lO"
      },
      "source": [
        "## 1. Data (preparing and loading)\n",
        "\n",
        "Data can ben almost anything... in machine learning:\n",
        "* excel speadsheet\n",
        "* images of any kind\n",
        "* Videos (YouTube, has lots of data...)\n",
        "* Audio like songs or podcasts\n",
        "* DNA\n",
        "* Text\n",
        "\n",
        "Machine learning is a game of two parts:\n",
        "1. Get data into numerical representation.\n",
        "2. Build a model to learn patterns in that numerical representation.\n",
        "\n",
        "To showcase this , let's create some *known* data using the linear regression formula\n",
        "\n",
        "We'll use a linear regression formula to make a straight line with *known* **parameters**"
      ]
    },
    {
      "cell_type": "code",
      "execution_count": 3,
      "metadata": {
        "colab": {
          "base_uri": "https://localhost:8080/"
        },
        "id": "tg4oaGpkWr1n",
        "outputId": "837a9ea5-6067-4d4d-f937-791731700864"
      },
      "outputs": [
        {
          "data": {
            "text/plain": [
              "(tensor([[0.0000],\n",
              "         [0.0200],\n",
              "         [0.0400],\n",
              "         [0.0600],\n",
              "         [0.0800],\n",
              "         [0.1000],\n",
              "         [0.1200],\n",
              "         [0.1400],\n",
              "         [0.1600],\n",
              "         [0.1800]]),\n",
              " tensor([[0.3000],\n",
              "         [0.3140],\n",
              "         [0.3280],\n",
              "         [0.3420],\n",
              "         [0.3560],\n",
              "         [0.3700],\n",
              "         [0.3840],\n",
              "         [0.3980],\n",
              "         [0.4120],\n",
              "         [0.4260]]))"
            ]
          },
          "execution_count": 3,
          "metadata": {},
          "output_type": "execute_result"
        }
      ],
      "source": [
        "# create *known* parameters\n",
        "weight = 0.7\n",
        "bias = 0.3\n",
        "\n",
        "# create\n",
        "start = 0\n",
        "end = 1\n",
        "step = 0.02\n",
        "X = torch.arange(start, end, step).unsqueeze(dim=1)\n",
        "y = weight * X + bias\n",
        "\n",
        "X[:10], y[:10]"
      ]
    },
    {
      "cell_type": "code",
      "execution_count": 4,
      "metadata": {
        "colab": {
          "base_uri": "https://localhost:8080/"
        },
        "id": "4DVfOfOfaMgj",
        "outputId": "d451871f-4273-430c-9329-61930d6f081d"
      },
      "outputs": [
        {
          "data": {
            "text/plain": [
              "(50, 50)"
            ]
          },
          "execution_count": 4,
          "metadata": {},
          "output_type": "execute_result"
        }
      ],
      "source": [
        "len(X), len(y)"
      ]
    },
    {
      "cell_type": "markdown",
      "metadata": {
        "id": "pVfyMRhmapJy"
      },
      "source": [
        "### splitting data into training and test sets (one of the most important concepts in machine learning in general)\n",
        "\n"
      ]
    },
    {
      "cell_type": "code",
      "execution_count": 5,
      "metadata": {
        "colab": {
          "base_uri": "https://localhost:8080/"
        },
        "id": "OXGaigWSaPO0",
        "outputId": "cb197064-c47b-410e-bdc5-7e4fa94142b0"
      },
      "outputs": [
        {
          "data": {
            "text/plain": [
              "(40, 40, 10, 10)"
            ]
          },
          "execution_count": 5,
          "metadata": {},
          "output_type": "execute_result"
        }
      ],
      "source": [
        "# create a train/test split\n",
        "\n",
        "train_split = int(0.8 * len(X))\n",
        "X_train, y_train = X[: train_split], y[:train_split]\n",
        "X_test, y_test = X[train_split:], y[train_split:]\n",
        "\n",
        "len(X_train), len(y_train), len(X_test), len(y_test)\n"
      ]
    },
    {
      "cell_type": "code",
      "execution_count": 6,
      "metadata": {
        "id": "qjJeOWSYBNHG"
      },
      "outputs": [],
      "source": [
        "def plot_predictions(train_data=X_train,\n",
        "                     train_labels=y_train,\n",
        "                     test_data=X_test,\n",
        "                     test_labels=y_test,\n",
        "                     predictions=None):\n",
        "  \"\"\"\n",
        "    Plot training data, test data and compares predictions.\n",
        "  \"\"\"\n",
        "\n",
        "  plt.figure(figsize=(10, 7))\n",
        "\n",
        "  # Plot training data in blue\n",
        "  plt.scatter(train_data, train_labels, c='b', s=4, label=\"Training data\")\n",
        "\n",
        "  # Plot test data in green\n",
        "  plt.scatter(test_data, test_labels, c='g', s=4, label=\"Testing data\")\n",
        "\n",
        "  # Are there predictions?\n",
        "  if predictions is not None:\n",
        "    plt.scatter(test_data, predictions, c='r', s=4, label='Predictions')\n",
        "\n",
        "  # show the legend\n",
        "  plt.legend(prop={\"size\": 14})\n"
      ]
    },
    {
      "cell_type": "code",
      "execution_count": 7,
      "metadata": {
        "colab": {
          "base_uri": "https://localhost:8080/",
          "height": 599
        },
        "id": "CLGf1m1DErtJ",
        "outputId": "0456aee9-03be-4c77-e1f3-11965ae776c6"
      },
      "outputs": [
        {
          "data": {
            "image/png": "[encoded data removed]",
            "text/plain": [
              "<Figure size 1000x700 with 1 Axes>"
            ]
          },
          "metadata": {},
          "output_type": "display_data"
        }
      ],
      "source": [
        "plot_predictions()"
      ]
    },
    {
      "cell_type": "markdown",
      "metadata": {
        "id": "bzosKy6EPnRt"
      },
      "source": [
        "## 2. Build model\n",
        "Our first PyTorch model!\n",
        "\n",
        "What our model does:\n",
        "* Start with random values (weight & bias)\n",
        "* Look at training data and adjust the random values to better represent (or get closer to) the ideal values (the wieght & bias values we used to create the data)\n",
        "\n",
        "How does it do so?\n",
        "\n",
        "\n",
        "Through two main algorithms:\n",
        "1. Gradient descent\n",
        "2. Backpropagation\n"
      ]
    },
    {
      "cell_type": "code",
      "execution_count": 8,
      "metadata": {
        "id": "BzCGE-gRPlre"
      },
      "outputs": [],
      "source": [
        "# create linear regression mdel class\n",
        "from torch import nn\n",
        "\n",
        "class LinearRegressionModel(nn.Module): # <- base class for all neural network modules\n",
        "  def __init__(self):\n",
        "    super().__init__()\n",
        "    self.weights = nn.Parameter(torch.randn(1, # <- start with a random value and try to adjust it to the ideal values\n",
        "                                            requires_grad=True, # <- can this parameter be undated via gradient descent?\n",
        "                                            dtype=torch.float)) # <- PyTorch loves the datatype torch.float32\n",
        "\n",
        "    self.bias = nn.Parameter(torch.randn(1, # <- start with a random value and try to adjust it to the ideal values\n",
        "                                            requires_grad=True, # <- can this parameter be undated via gradient descent?\n",
        "                                            dtype=torch.float)) # <- PyTorch loves the datatype torch.float32\n",
        "\n",
        "  # Forward method to define the computation in the model\n",
        "  def forward(self, x: torch.Tensor) -> torch.Tensor: # <- \"x\" is the input data\n",
        "    return self.weights * x + self.bias # this is the linear regression formula\n",
        "\n"
      ]
    },
    {
      "cell_type": "markdown",
      "metadata": {
        "id": "aFPzBuHs0KWD"
      },
      "source": [
        "### PyTorch model building essentials\n",
        "\n",
        "* torch.nn - contains all of the buildings for computational graphs ( a neural network can be considered a computational graph)\n",
        "* torch.nn.Parameter - what parameters should our model try and learn, often a PyTorch layer from torch.nn will set these for us\n",
        "* torch.nn.Module - the base class for all neural network modules, if you subclass it, you should overwrite forward()\n",
        "* torch.optim - this where the optimizers in PyTorch live, they  will help with gradient descent\n",
        "* def forword() - all nn.Module subclasses require you to overwrite forward(), this method defines what happens in the forward computation"
      ]
    },
    {
      "cell_type": "markdown",
      "metadata": {
        "id": "r8xicENNU03Z"
      },
      "source": [
        "### checking the contents of our PyTorch model"
      ]
    },
    {
      "cell_type": "code",
      "execution_count": 15,
      "metadata": {
        "colab": {
          "base_uri": "https://localhost:8080/"
        },
        "id": "qKnxSeKCVP_8",
        "outputId": "ce168574-d39b-4930-e982-e75c7f6f0908"
      },
      "outputs": [
        {
          "data": {
            "text/plain": [
              "[Parameter containing:\n",
              " tensor([0.2345], requires_grad=True),\n",
              " Parameter containing:\n",
              " tensor([0.2303], requires_grad=True)]"
            ]
          },
          "execution_count": 15,
          "metadata": {},
          "output_type": "execute_result"
        }
      ],
      "source": [
        "model_0 = LinearRegressionModel()\n",
        "list(model_0.parameters())"
      ]
    },
    {
      "cell_type": "markdown",
      "metadata": {
        "id": "VOJsjRi1chOj"
      },
      "source": [
        "### Makin predicition using `torch.inference_mode()`\n",
        "\n",
        "To check or model's predictive power, let's see how well it predicts `y_test` based on `X_test`\n",
        "When we pass data through our model, it's going to run it through the `forward()` method."
      ]
    },
    {
      "cell_type": "code",
      "execution_count": 21,
      "metadata": {
        "colab": {
          "base_uri": "https://localhost:8080/"
        },
        "id": "yVV24q3ycXSs",
        "outputId": "3c40c168-35a2-449e-aea4-a0fbb7c3782a"
      },
      "outputs": [
        {
          "data": {
            "text/plain": [
              "tensor([[0.4179],\n",
              "        [0.4226],\n",
              "        [0.4273],\n",
              "        [0.4320],\n",
              "        [0.4367],\n",
              "        [0.4413],\n",
              "        [0.4460],\n",
              "        [0.4507],\n",
              "        [0.4554],\n",
              "        [0.4601]])"
            ]
          },
          "execution_count": 21,
          "metadata": {},
          "output_type": "execute_result"
        }
      ],
      "source": [
        "# make predictions with model\n",
        "with torch.inference_mode():\n",
        "  y_preds = model_0(X_test)\n",
        "\n",
        "#  you can do something similar with torch.no_grad()\n",
        "with torch.no_grad():\n",
        "  y_preds = model_0(X_test)\n",
        "\n",
        "y_preds"
      ]
    },
    {
      "cell_type": "code",
      "execution_count": 20,
      "metadata": {
        "colab": {
          "base_uri": "https://localhost:8080/",
          "height": 599
        },
        "id": "3mBVZT18fKeb",
        "outputId": "0aad2068-fbe8-49f7-f167-776081e7ea1d"
      },
      "outputs": [
        {
          "data": {
            "image/png": "[encoded data removed]",
            "text/plain": [
              "<Figure size 1000x700 with 1 Axes>"
            ]
          },
          "metadata": {},
          "output_type": "display_data"
        }
      ],
      "source": [
        "plot_predictions(predictions=y_preds)"
      ]
    },
    {
      "cell_type": "markdown",
      "metadata": {
        "id": "yXqgAdKyhIa2"
      },
      "source": [
        "## 3. Train model\n",
        "\n",
        "The whole idea of training is for a model to move from some _unknown_ parameters (these may be random) to some _known_ parameters.\n",
        "Or in other words from a poor representation of the data to a better representation of the data.\n",
        "\n",
        "One way to meeasure how poor or how wrong your models predictions are is to use a loss function.\n",
        "\n",
        "* Note: Loss fuction may also be called cost function or criterion in different areas.\n",
        "* **Loss function:** A `function` to measure how wrong your model's predctions are to the ideal outputs, lower is better.\n",
        "* **Optimizer:** Takes into account the loss of a model and adjusts the model's parameters (e.g. weight & bias)\n",
        "\n",
        "A specifically for PyTorch, we need:\n",
        "\n",
        "* A training loop\n",
        "* A testing loop"
      ]
    },
    {
      "cell_type": "code",
      "execution_count": 22,
      "metadata": {
        "colab": {
          "base_uri": "https://localhost:8080/"
        },
        "id": "8r8t7aaarV4-",
        "outputId": "d381191f-fe6f-4dfd-8d82-b9f5fbc1c8f6"
      },
      "outputs": [
        {
          "data": {
            "text/plain": [
              "OrderedDict([('weights', tensor([0.2345])), ('bias', tensor([0.2303]))])"
            ]
          },
          "execution_count": 22,
          "metadata": {},
          "output_type": "execute_result"
        }
      ],
      "source": [
        "# check out or model's parameters\n",
        "model_0.state_dict()"
      ]
    },
    {
      "cell_type": "code",
      "execution_count": 24,
      "metadata": {
        "id": "A8dnKtf7g1kQ"
      },
      "outputs": [],
      "source": [
        "## setup a loss function\n",
        "loss_fn = nn.L1Loss()\n",
        "\n",
        "## setup an optimizer (stochastic gradient descent)\n",
        "optimizer = torch.optim.SGD(params=model_0.parameters(),\n",
        "                            lr=0.01) # lr = learning rate = possibly the most important hyperparameter you can set"
      ]
    },
    {
      "cell_type": "markdown",
      "metadata": {
        "id": "nXsUSrRCu92x"
      },
      "source": [
        "### Building a training loop in PyTorch\n",
        "\n",
        "A couple of things we need in a training loop:\n",
        "0. Loop through the data\n",
        "1. Forward pass\n",
        "2. Calculate the loss\n",
        "3. Optimizer zero grad\n",
        "4. Loss backward\n",
        "5. Optimize step"
      ]
    },
    {
      "cell_type": "code",
      "execution_count": 56,
      "metadata": {
        "colab": {
          "base_uri": "https://localhost:8080/"
        },
        "id": "dqlKlzJGu9pN",
        "outputId": "5c6435f3-796c-4078-cf56-5f78210e67c1"
      },
      "outputs": [
        {
          "name": "stdout",
          "output_type": "stream",
          "text": [
            "Loss: 0.007190808653831482\n",
            "Epoch:0 | Loss: 0.007190808653831482 |Test loss: 0.009028583765029907\n",
            "OrderedDict([('weights', tensor([0.6906])), ('bias', tensor([0.2993]))])\n",
            "Loss: 0.004330190364271402\n",
            "Loss: 0.007190808653831482\n",
            "Loss: 0.004330190364271402\n",
            "Loss: 0.007190808653831482\n",
            "Loss: 0.004330190364271402\n",
            "Loss: 0.007190808653831482\n",
            "Loss: 0.004330190364271402\n",
            "Loss: 0.007190808653831482\n",
            "Loss: 0.004330190364271402\n",
            "Loss: 0.007190808653831482\n",
            "Epoch:10 | Loss: 0.007190808653831482 |Test loss: 0.009028583765029907\n",
            "OrderedDict([('weights', tensor([0.6906])), ('bias', tensor([0.2993]))])\n",
            "Loss: 0.004330190364271402\n",
            "Loss: 0.007190808653831482\n",
            "Loss: 0.004330190364271402\n",
            "Loss: 0.007190808653831482\n",
            "Loss: 0.004330190364271402\n",
            "Loss: 0.007190808653831482\n",
            "Loss: 0.004330190364271402\n",
            "Loss: 0.007190808653831482\n",
            "Loss: 0.004330190364271402\n",
            "Loss: 0.007190808653831482\n",
            "Epoch:20 | Loss: 0.007190808653831482 |Test loss: 0.009028583765029907\n",
            "OrderedDict([('weights', tensor([0.6906])), ('bias', tensor([0.2993]))])\n",
            "Loss: 0.004330190364271402\n",
            "Loss: 0.007190808653831482\n",
            "Loss: 0.004330190364271402\n",
            "Loss: 0.007190808653831482\n",
            "Loss: 0.004330190364271402\n",
            "Loss: 0.007190808653831482\n",
            "Loss: 0.004330190364271402\n",
            "Loss: 0.007190808653831482\n",
            "Loss: 0.004330190364271402\n",
            "Loss: 0.007190808653831482\n",
            "Epoch:30 | Loss: 0.007190808653831482 |Test loss: 0.009028583765029907\n",
            "OrderedDict([('weights', tensor([0.6906])), ('bias', tensor([0.2993]))])\n",
            "Loss: 0.004330190364271402\n",
            "Loss: 0.007190808653831482\n",
            "Loss: 0.004330190364271402\n",
            "Loss: 0.007190808653831482\n",
            "Loss: 0.004330190364271402\n",
            "Loss: 0.007190808653831482\n",
            "Loss: 0.004330190364271402\n",
            "Loss: 0.007190808653831482\n",
            "Loss: 0.004330190364271402\n",
            "Loss: 0.007190808653831482\n",
            "Epoch:40 | Loss: 0.007190808653831482 |Test loss: 0.009028583765029907\n",
            "OrderedDict([('weights', tensor([0.6906])), ('bias', tensor([0.2993]))])\n",
            "Loss: 0.004330190364271402\n",
            "Loss: 0.007190808653831482\n",
            "Loss: 0.004330190364271402\n",
            "Loss: 0.007190808653831482\n",
            "Loss: 0.004330190364271402\n",
            "Loss: 0.007190808653831482\n",
            "Loss: 0.004330190364271402\n",
            "Loss: 0.007190808653831482\n",
            "Loss: 0.004330190364271402\n",
            "Loss: 0.007190808653831482\n",
            "Epoch:50 | Loss: 0.007190808653831482 |Test loss: 0.009028583765029907\n",
            "OrderedDict([('weights', tensor([0.6906])), ('bias', tensor([0.2993]))])\n",
            "Loss: 0.004330190364271402\n",
            "Loss: 0.007190808653831482\n",
            "Loss: 0.004330190364271402\n",
            "Loss: 0.007190808653831482\n",
            "Loss: 0.004330190364271402\n",
            "Loss: 0.007190808653831482\n",
            "Loss: 0.004330190364271402\n",
            "Loss: 0.007190808653831482\n",
            "Loss: 0.004330190364271402\n",
            "Loss: 0.007190808653831482\n",
            "Epoch:60 | Loss: 0.007190808653831482 |Test loss: 0.009028583765029907\n",
            "OrderedDict([('weights', tensor([0.6906])), ('bias', tensor([0.2993]))])\n",
            "Loss: 0.004330190364271402\n",
            "Loss: 0.007190808653831482\n",
            "Loss: 0.004330190364271402\n",
            "Loss: 0.007190808653831482\n",
            "Loss: 0.004330190364271402\n",
            "Loss: 0.007190808653831482\n",
            "Loss: 0.004330190364271402\n",
            "Loss: 0.007190808653831482\n",
            "Loss: 0.004330190364271402\n",
            "Loss: 0.007190808653831482\n",
            "Epoch:70 | Loss: 0.007190808653831482 |Test loss: 0.009028583765029907\n",
            "OrderedDict([('weights', tensor([0.6906])), ('bias', tensor([0.2993]))])\n",
            "Loss: 0.004330190364271402\n",
            "Loss: 0.007190808653831482\n",
            "Loss: 0.004330190364271402\n",
            "Loss: 0.007190808653831482\n",
            "Loss: 0.004330190364271402\n",
            "Loss: 0.007190808653831482\n",
            "Loss: 0.004330190364271402\n",
            "Loss: 0.007190808653831482\n",
            "Loss: 0.004330190364271402\n",
            "Loss: 0.007190808653831482\n",
            "Epoch:80 | Loss: 0.007190808653831482 |Test loss: 0.009028583765029907\n",
            "OrderedDict([('weights', tensor([0.6906])), ('bias', tensor([0.2993]))])\n",
            "Loss: 0.004330190364271402\n",
            "Loss: 0.007190808653831482\n",
            "Loss: 0.004330190364271402\n",
            "Loss: 0.007190808653831482\n",
            "Loss: 0.004330190364271402\n",
            "Loss: 0.007190808653831482\n",
            "Loss: 0.004330190364271402\n",
            "Loss: 0.007190808653831482\n",
            "Loss: 0.004330190364271402\n",
            "Loss: 0.007190808653831482\n",
            "Epoch:90 | Loss: 0.007190808653831482 |Test loss: 0.009028583765029907\n",
            "OrderedDict([('weights', tensor([0.6906])), ('bias', tensor([0.2993]))])\n",
            "Loss: 0.004330190364271402\n",
            "Loss: 0.007190808653831482\n",
            "Loss: 0.004330190364271402\n",
            "Loss: 0.007190808653831482\n",
            "Loss: 0.004330190364271402\n",
            "Loss: 0.007190808653831482\n",
            "Loss: 0.004330190364271402\n",
            "Loss: 0.007190808653831482\n",
            "Loss: 0.004330190364271402\n"
          ]
        }
      ],
      "source": [
        "# An epoch is one loop through the data... (this is a hyperparameter because we've set it ourselves)\n",
        "epochs = 100\n",
        "\n",
        "# 0. Loop through the data\n",
        "for epoch in range(epochs):\n",
        "  # set the model to training mode\n",
        "  model_0.train() # train mode in PyTorch sets all parameters that require gradients to require gradients\n",
        "  # 1. Forward pass\n",
        "  y_pred = model_0(X_train)\n",
        "\n",
        "  # 2. Calculate the loss\n",
        "  loss = loss_fn(y_pred, y_train)\n",
        "\n",
        "  # 3. Optimizer zero grad\n",
        "  optimizer.zero_grad()\n",
        "\n",
        "  # 4. Perform backpropagation on the loss with respect to the parameters of the model\n",
        "  loss.backward()\n",
        "\n",
        "  # 5. Step the optimizer (perform gradient descent)\n",
        "  optimizer.step()\n",
        "\n",
        "  # 6. Testing\n",
        "  model_0.eval() # turns off different settings in the model not needed for evaluation/testing\n",
        "  with torch.inference_mode(): # turn off gradient tracking & a couple more things behind the scenes\n",
        "    # 1. Do the forward pass\n",
        "    test_pred = model_0(X_test)\n",
        "\n",
        "    # 2. Calculate the loss\n",
        "    test_loss = loss_fn(test_pred, y_test)\n",
        "\n",
        "  if epoch % 10 == 0:\n",
        "    print(f\"Epoch:{epoch} | Loss: {loss} |Test loss: {test_loss}\")\n",
        "    print(model_0.state_dict())"
      ]
    },
    {
      "cell_type": "code",
      "execution_count": 57,
      "metadata": {
        "colab": {
          "base_uri": "https://localhost:8080/",
          "height": 599
        },
        "id": "OSuwiFKNu8Tn",
        "outputId": "b0850eda-da39-4ff0-8f5f-edd06e9fad36"
      },
      "outputs": [
        {
          "data": {
            "image/png": "[encoded data removed]",
            "text/plain": [
              "<Figure size 1000x700 with 1 Axes>"
            ]
          },
          "metadata": {},
          "output_type": "display_data"
        }
      ],
      "source": [
        "plot_predictions(predictions=y_preds)"
      ]
    },
    {
      "cell_type": "code",
      "execution_count": 58,
      "metadata": {
        "colab": {
          "base_uri": "https://localhost:8080/",
          "height": 599
        },
        "id": "0qeOGv5eSC5x",
        "outputId": "7dacdba1-b70d-4f2c-ed31-76954b53868b"
      },
      "outputs": [
        {
          "data": {
            "image/png": "[encoded data removed]",
            "text/plain": [
              "<Figure size 1000x700 with 1 Axes>"
            ]
          },
          "metadata": {},
          "output_type": "display_data"
        }
      ],
      "source": [
        "with torch.inference_mode():\n",
        "  y_preds_new = model_0(X_test)\n",
        "\n",
        "plot_predictions(predictions=y_preds_new)"
      ]
    }
  ],
  "metadata": {
    "colab": {
      "provenance": []
    },
    "kernelspec": {
      "display_name": "Python 3",
      "name": "python3"
    },
    "language_info": {
      "name": "python"
    }
  },
  "nbformat": 4,
  "nbformat_minor": 0
}
