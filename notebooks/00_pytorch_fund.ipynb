{
  "cells": [
    {
      "cell_type": "markdown",
      "metadata": {
        "id": "ZSoS-XCmK_Hx"
      },
      "source": [
        "## 00. PyTorch Fundamentals"
      ]
    },
    {
      "cell_type": "code",
      "execution_count": 1,
      "metadata": {
        "colab": {
          "base_uri": "https://localhost:8080/"
        },
        "id": "KNarcfLbLDFo",
        "outputId": "0490d950-7937-442e-b22c-adbbff0110d3"
      },
      "outputs": [
        {
          "name": "stdout",
          "output_type": "stream",
          "text": [
            "2.1.0+cu118\n"
          ]
        }
      ],
      "source": [
        "import torch\n",
        "print(torch.__version__)"
      ]
    },
    {
      "cell_type": "code",
      "execution_count": 2,
      "metadata": {
        "id": "tZtjF5qKLIzZ"
      },
      "outputs": [],
      "source": [
        "## introdution to tensors\n",
        "\n",
        "## creating tensors\n"
      ]
    },
    {
      "cell_type": "code",
      "execution_count": 3,
      "metadata": {
        "colab": {
          "base_uri": "https://localhost:8080/"
        },
        "id": "LtuyNRDnLv3o",
        "outputId": "e6999bfd-e7a6-437d-d647-e2937fc1d234"
      },
      "outputs": [
        {
          "data": {
            "text/plain": [
              "tensor(7)"
            ]
          },
          "execution_count": 3,
          "metadata": {},
          "output_type": "execute_result"
        }
      ],
      "source": [
        "# scalar\n",
        "\n",
        "scalar = torch.tensor(7)\n",
        "scalar\n"
      ]
    },
    {
      "cell_type": "code",
      "execution_count": 4,
      "metadata": {
        "colab": {
          "base_uri": "https://localhost:8080/"
        },
        "id": "N-PEI49yL8H5",
        "outputId": "26bfe5fa-c9fb-4ef2-9efa-d7caeb5133ca"
      },
      "outputs": [
        {
          "data": {
            "text/plain": [
              "0"
            ]
          },
          "execution_count": 4,
          "metadata": {},
          "output_type": "execute_result"
        }
      ],
      "source": [
        "scalar.ndim"
      ]
    },
    {
      "cell_type": "code",
      "execution_count": 5,
      "metadata": {
        "colab": {
          "base_uri": "https://localhost:8080/"
        },
        "id": "ZCRY7btFMWvP",
        "outputId": "af4a20be-7deb-452d-9bd3-dd7c642237aa"
      },
      "outputs": [
        {
          "data": {
            "text/plain": [
              "7"
            ]
          },
          "execution_count": 5,
          "metadata": {},
          "output_type": "execute_result"
        }
      ],
      "source": [
        "# Get tensor back as python int\n",
        "scalar.item()"
      ]
    },
    {
      "cell_type": "code",
      "execution_count": 6,
      "metadata": {
        "colab": {
          "base_uri": "https://localhost:8080/"
        },
        "id": "kXSCb-NTMYUz",
        "outputId": "a60b737c-438d-4655-ecba-49b8ddb62690"
      },
      "outputs": [
        {
          "data": {
            "text/plain": [
              "tensor([7, 7])"
            ]
          },
          "execution_count": 6,
          "metadata": {},
          "output_type": "execute_result"
        }
      ],
      "source": [
        "# Vector\n",
        "vector = torch.tensor([7,7])\n",
        "vector"
      ]
    },
    {
      "cell_type": "code",
      "execution_count": 7,
      "metadata": {
        "colab": {
          "base_uri": "https://localhost:8080/"
        },
        "id": "H71LuS2VMhX1",
        "outputId": "49581782-378c-4fe3-eaa2-93d975bafa74"
      },
      "outputs": [
        {
          "data": {
            "text/plain": [
              "1"
            ]
          },
          "execution_count": 7,
          "metadata": {},
          "output_type": "execute_result"
        }
      ],
      "source": [
        "vector.ndim"
      ]
    },
    {
      "cell_type": "code",
      "execution_count": 8,
      "metadata": {
        "colab": {
          "base_uri": "https://localhost:8080/"
        },
        "id": "4ChRPX6IMqaj",
        "outputId": "19e71988-fe23-4d13-c6fa-238e01b6be86"
      },
      "outputs": [
        {
          "data": {
            "text/plain": [
              "torch.Size([2])"
            ]
          },
          "execution_count": 8,
          "metadata": {},
          "output_type": "execute_result"
        }
      ],
      "source": [
        "vector.shape"
      ]
    },
    {
      "cell_type": "code",
      "execution_count": 9,
      "metadata": {
        "colab": {
          "base_uri": "https://localhost:8080/"
        },
        "id": "IvOyuBEmMueb",
        "outputId": "3803f661-1b11-485d-8f8d-bdb091523d8e"
      },
      "outputs": [
        {
          "data": {
            "text/plain": [
              "tensor([[ 7,  8],\n",
              "        [ 9, 10]])"
            ]
          },
          "execution_count": 9,
          "metadata": {},
          "output_type": "execute_result"
        }
      ],
      "source": [
        "# Matrix\n",
        "matrix = torch.tensor([[7, 8],\n",
        "                       [9, 10]])\n",
        "matrix"
      ]
    },
    {
      "cell_type": "code",
      "execution_count": 11,
      "metadata": {
        "colab": {
          "base_uri": "https://localhost:8080/"
        },
        "id": "gmuIm4dTM6to",
        "outputId": "934f9887-2fff-4cc4-c7ba-798b718261b7"
      },
      "outputs": [
        {
          "data": {
            "text/plain": [
              "tensor([[[1, 2, 3],\n",
              "         [4, 5, 6],\n",
              "         [7, 8, 9]]])"
            ]
          },
          "execution_count": 11,
          "metadata": {},
          "output_type": "execute_result"
        }
      ],
      "source": [
        "# TENSOR\n",
        "TENSOR = torch.tensor([[[1, 2, 3],\n",
        "                        [4, 5, 6],\n",
        "                        [7, 8, 9]]])\n",
        "TENSOR"
      ]
    },
    {
      "cell_type": "code",
      "execution_count": 13,
      "metadata": {
        "colab": {
          "base_uri": "https://localhost:8080/"
        },
        "id": "DrHNYt2pl2Wz",
        "outputId": "c6d17e58-2fee-4521-a96c-e4b9c7278285"
      },
      "outputs": [
        {
          "data": {
            "text/plain": [
              "torch.Size([1, 3, 3])"
            ]
          },
          "execution_count": 13,
          "metadata": {},
          "output_type": "execute_result"
        }
      ],
      "source": [
        "TENSOR.shape"
      ]
    },
    {
      "cell_type": "code",
      "execution_count": 16,
      "metadata": {
        "colab": {
          "base_uri": "https://localhost:8080/"
        },
        "id": "6gbP5zoHl3v2",
        "outputId": "681e22af-c024-4933-b6c7-bc9e76f52c28"
      },
      "outputs": [
        {
          "data": {
            "text/plain": [
              "3"
            ]
          },
          "execution_count": 16,
          "metadata": {},
          "output_type": "execute_result"
        }
      ],
      "source": [
        "TENSOR.ndim"
      ]
    },
    {
      "cell_type": "markdown",
      "metadata": {
        "id": "J6XyH3qomR4v"
      },
      "source": [
        "### Random tensors\n",
        "\n",
        "Why random tensors?\n",
        "- Random tensors are important because the way many neural networks learn is that start with tensor full of random number adjust those random numbers to better represent the data\n",
        "Torch random tensors - https://pytorch.org/docs/stable/generated/torch.rand.html"
      ]
    },
    {
      "cell_type": "code",
      "execution_count": 26,
      "metadata": {
        "colab": {
          "base_uri": "https://localhost:8080/"
        },
        "id": "jXE9QXsYmOgp",
        "outputId": "55ec9a76-0461-4322-bd6c-faa7d8cb903f"
      },
      "outputs": [
        {
          "data": {
            "text/plain": [
              "tensor([[[6.2833e-02, 7.9900e-01, 8.1623e-01, 8.9532e-01, 7.4583e-01,\n",
              "          1.8113e-02],\n",
              "         [6.4037e-01, 9.2332e-01, 2.0328e-01, 2.4182e-04, 3.9488e-01,\n",
              "          7.0001e-01],\n",
              "         [3.9682e-01, 4.0004e-01, 1.7070e-01, 5.8284e-01, 9.8230e-02,\n",
              "          8.5224e-01],\n",
              "         [8.0387e-02, 6.7772e-01, 3.7350e-01, 5.1083e-01, 7.5014e-01,\n",
              "          3.7179e-01],\n",
              "         [7.6235e-01, 2.8138e-01, 3.8674e-02, 8.7449e-01, 6.0145e-01,\n",
              "          7.2660e-01],\n",
              "         [7.1863e-01, 8.8655e-01, 4.7407e-01, 7.6162e-01, 9.2186e-01,\n",
              "          8.1365e-03],\n",
              "         [5.4300e-01, 3.5592e-01, 3.0677e-01, 1.1924e-02, 8.5011e-01,\n",
              "          1.9251e-01],\n",
              "         [8.6523e-01, 8.6607e-01, 1.6732e-01, 1.2144e-01, 8.4513e-01,\n",
              "          4.1413e-01],\n",
              "         [2.8715e-01, 2.1804e-01, 3.6277e-01, 7.4509e-01, 6.6181e-01,\n",
              "          9.2692e-01],\n",
              "         [6.9431e-01, 9.2650e-01, 6.2164e-01, 1.4966e-01, 8.3907e-01,\n",
              "          6.9940e-01]]])"
            ]
          },
          "execution_count": 26,
          "metadata": {},
          "output_type": "execute_result"
        }
      ],
      "source": [
        "#random_tensor = torch.rand(3,4)\n",
        "random_tensor = torch.rand(1,10,6)\n",
        "random_tensor"
      ]
    },
    {
      "cell_type": "code",
      "execution_count": 27,
      "metadata": {
        "colab": {
          "base_uri": "https://localhost:8080/"
        },
        "id": "BG0P-HSGpBkW",
        "outputId": "41b77c2d-1807-4766-bb22-ec389df82032"
      },
      "outputs": [
        {
          "data": {
            "text/plain": [
              "(torch.Size([244, 244, 3]), 3)"
            ]
          },
          "execution_count": 27,
          "metadata": {},
          "output_type": "execute_result"
        }
      ],
      "source": [
        "# create a rendom tensor with similar shape to an image tensor\n",
        "random_image_size_tensor = torch.rand(size=(244, 244,3)) # height, width, colour channel\n",
        "random_image_size_tensor.shape, random_image_size_tensor.ndim"
      ]
    },
    {
      "cell_type": "code",
      "execution_count": 32,
      "metadata": {
        "colab": {
          "base_uri": "https://localhost:8080/"
        },
        "id": "l3G9_bhcq3iJ",
        "outputId": "0d960fb0-5640-44a9-8939-28d3c114eaf7"
      },
      "outputs": [
        {
          "data": {
            "text/plain": [
              "tensor([[[0., 0., 0., 0.],\n",
              "         [0., 0., 0., 0.],\n",
              "         [0., 0., 0., 0.],\n",
              "         [0., 0., 0., 0.]]])"
            ]
          },
          "execution_count": 32,
          "metadata": {},
          "output_type": "execute_result"
        }
      ],
      "source": [
        "# tensors with zeros and ones\n",
        "# all zeros\n",
        "zeros = torch.zeros(1, 4 , 4)\n",
        "zeros"
      ]
    },
    {
      "cell_type": "code",
      "execution_count": 34,
      "metadata": {
        "colab": {
          "base_uri": "https://localhost:8080/"
        },
        "id": "5C_FaBinrGgv",
        "outputId": "4b8e517b-ecd8-4983-ec79-e847430457ac"
      },
      "outputs": [
        {
          "data": {
            "text/plain": [
              "tensor([[[1., 1., 1., 1.],\n",
              "         [1., 1., 1., 1.],\n",
              "         [1., 1., 1., 1.],\n",
              "         [1., 1., 1., 1.]]])"
            ]
          },
          "execution_count": 34,
          "metadata": {},
          "output_type": "execute_result"
        }
      ],
      "source": [
        "# all ones\n",
        "ones = torch.ones(1, 4, 4)\n",
        "ones"
      ]
    },
    {
      "cell_type": "code",
      "execution_count": 41,
      "metadata": {
        "colab": {
          "base_uri": "https://localhost:8080/"
        },
        "id": "XpWR0S8DrQ1T",
        "outputId": "d2bbe40b-d340-4ec3-8f7c-1e53bbea3996"
      },
      "outputs": [
        {
          "data": {
            "text/plain": [
              "tensor([ 0,  2,  4,  6,  8, 10, 12, 14, 16, 18, 20, 22, 24, 26, 28, 30, 32, 34,\n",
              "        36, 38, 40, 42, 44, 46, 48, 50, 52, 54, 56, 58, 60, 62, 64, 66, 68, 70,\n",
              "        72, 74, 76, 78, 80, 82, 84, 86, 88, 90, 92, 94, 96, 98])"
            ]
          },
          "execution_count": 41,
          "metadata": {},
          "output_type": "execute_result"
        }
      ],
      "source": [
        "# range of range and tensors-like\n",
        "# torch.range()\n",
        "arange = torch.arange(start=0, end=100, step=2)\n",
        "arange"
      ]
    },
    {
      "cell_type": "code",
      "execution_count": 42,
      "metadata": {
        "colab": {
          "base_uri": "https://localhost:8080/"
        },
        "id": "4BadApwKrlLb",
        "outputId": "d6367ffd-f5fb-4733-e020-19d8f9184778"
      },
      "outputs": [
        {
          "data": {
            "text/plain": [
              "tensor([0, 0, 0, 0, 0, 0, 0, 0, 0, 0, 0, 0, 0, 0, 0, 0, 0, 0, 0, 0, 0, 0, 0, 0,\n",
              "        0, 0, 0, 0, 0, 0, 0, 0, 0, 0, 0, 0, 0, 0, 0, 0, 0, 0, 0, 0, 0, 0, 0, 0,\n",
              "        0, 0])"
            ]
          },
          "execution_count": 42,
          "metadata": {},
          "output_type": "execute_result"
        }
      ],
      "source": [
        "# tensors like\n",
        "likes = torch.zeros_like(input=arange)\n",
        "likes"
      ]
    },
    {
      "cell_type": "markdown",
      "metadata": {
        "id": "9m6P6LPjtnuw"
      },
      "source": [
        "### Dealing with tensor data types\n",
        "\n",
        "**NOTE:** Tensor datatypes is one of the 3 big errors you'll run into with\n",
        "PyTorch & deep learing:\n",
        "  1. Tensors not right datatype\n",
        "  2. Tensors not right shape\n",
        "  3. Tensors not on the right device\n",
        "\n",
        "https://pytorch.org/docs/stable/tensors.html"
      ]
    },
    {
      "cell_type": "code",
      "execution_count": 48,
      "metadata": {
        "colab": {
          "base_uri": "https://localhost:8080/"
        },
        "id": "LUbvMHpVtSBl",
        "outputId": "ea0bf203-0895-4be4-bd31-cb4e91661871"
      },
      "outputs": [
        {
          "data": {
            "text/plain": [
              "(tensor([3.4000, 3.5000, 6.5000]), torch.float32)"
            ]
          },
          "execution_count": 48,
          "metadata": {},
          "output_type": "execute_result"
        }
      ],
      "source": [
        "# Float 32 tensor\n",
        "float_32_tensor = torch.tensor([3.4, 3.5, 6.5],\n",
        "                               dtype=None, # what datatype is the tensor (float32, float 16)\n",
        "                               device=None,# what device is yout tensor on\n",
        "                               requires_grad=False, # whether or not to track gradients with this tensor operations.\n",
        "                               )\n",
        "float_32_tensor, float_32_tensor.dtype"
      ]
    },
    {
      "cell_type": "code",
      "execution_count": 47,
      "metadata": {
        "colab": {
          "base_uri": "https://localhost:8080/"
        },
        "id": "-CvW4x8Ht_GY",
        "outputId": "8b879994-5ec1-491a-a049-ab7a59ceb293"
      },
      "outputs": [
        {
          "data": {
            "text/plain": [
              "tensor([3.4004, 3.5000, 6.5000], dtype=torch.float16)"
            ]
          },
          "execution_count": 47,
          "metadata": {},
          "output_type": "execute_result"
        }
      ],
      "source": [
        "# float 16 tensor\n",
        "float_16_tensor = float_32_tensor.type(torch.float16)\n",
        "float_16_tensor"
      ]
    },
    {
      "cell_type": "markdown",
      "metadata": {
        "id": "SAd7A8Td4PIM"
      },
      "source": [
        "### getting tensor attributes\n",
        "\n",
        "  1. Tensors not right datatype - to do get datatype from a tensor, can use `tensor.dtype`\n",
        "  2. Tensors not right shape - to get a shape  from a tensor, can use `tensor.shape`\n",
        "  3. Tensors not on the right device - to get device from a tensor, can use `tensor.device`"
      ]
    },
    {
      "cell_type": "code",
      "execution_count": 49,
      "metadata": {
        "id": "i1CVoA6m3qrH"
      },
      "outputs": [],
      "source": [
        "int_32_tensor = torch.tensor([3, 6, 9], dtype=torch.int32)"
      ]
    },
    {
      "cell_type": "code",
      "execution_count": 50,
      "metadata": {
        "colab": {
          "base_uri": "https://localhost:8080/"
        },
        "id": "Ahcf42RV4d1_",
        "outputId": "621ee44c-743c-4d57-d041-1355d16bb1bc"
      },
      "outputs": [
        {
          "name": "stdout",
          "output_type": "stream",
          "text": [
            "tensor([[0.5131, 0.1233, 0.9871, 0.9099],\n",
            "        [0.3882, 0.1737, 0.2579, 0.2141],\n",
            "        [0.1529, 0.2013, 0.1467, 0.5875]])\n",
            "Datatype: torch.float32\n",
            "Shape: torch.Size([3, 4])\n",
            "Device: cpu\n"
          ]
        }
      ],
      "source": [
        "# Find out details about some tensor\n",
        "some_tensor = torch.rand(3,4)\n",
        "print(some_tensor)\n",
        "print(f\"Datatype: {some_tensor.dtype}\")\n",
        "print(f\"Shape: {some_tensor.shape}\")\n",
        "print(f\"Device: {some_tensor.device}\")"
      ]
    },
    {
      "cell_type": "markdown",
      "metadata": {
        "id": "AMLXtQW67Hal"
      },
      "source": [
        "### Manipulating Tensors (tensor operation)\n",
        "\n",
        "Tensor operations include:\n",
        "* Addition\n",
        "* Subtraction\n",
        "* Mutiplication (element-wise)\n",
        "* Division\n",
        "* Matrix multiplication"
      ]
    },
    {
      "cell_type": "code",
      "execution_count": 51,
      "metadata": {
        "colab": {
          "base_uri": "https://localhost:8080/"
        },
        "id": "HoxjViOG7Bqf",
        "outputId": "56f1bb30-83c2-46fa-ec4e-85e332b4654b"
      },
      "outputs": [
        {
          "data": {
            "text/plain": [
              "tensor([11, 12, 13])"
            ]
          },
          "execution_count": 51,
          "metadata": {},
          "output_type": "execute_result"
        }
      ],
      "source": [
        "# TENSOR + 10\n",
        "torch.tensor([1, 2, 3]) + 10"
      ]
    },
    {
      "cell_type": "code",
      "execution_count": 52,
      "metadata": {
        "colab": {
          "base_uri": "https://localhost:8080/"
        },
        "id": "PSV6RbVH8Xtw",
        "outputId": "eb58f8d4-da47-4350-cfea-3d8a541a0c5d"
      },
      "outputs": [
        {
          "data": {
            "text/plain": [
              "tensor([10, 20, 30])"
            ]
          },
          "execution_count": 52,
          "metadata": {},
          "output_type": "execute_result"
        }
      ],
      "source": [
        "# TENSOR * 10\n",
        "torch.tensor([1, 2, 3]) * 10"
      ]
    },
    {
      "cell_type": "code",
      "execution_count": 53,
      "metadata": {
        "colab": {
          "base_uri": "https://localhost:8080/"
        },
        "id": "_QBmJexD8jTr",
        "outputId": "7bda6936-ea74-47da-c014-327b62164fbc"
      },
      "outputs": [
        {
          "data": {
            "text/plain": [
              "tensor([-9, -8, -7])"
            ]
          },
          "execution_count": 53,
          "metadata": {},
          "output_type": "execute_result"
        }
      ],
      "source": [
        "# TENSOR - 10\n",
        "torch.tensor([1, 2, 3]) - 10"
      ]
    },
    {
      "cell_type": "code",
      "execution_count": 54,
      "metadata": {
        "colab": {
          "base_uri": "https://localhost:8080/"
        },
        "id": "WuY0RyMt8ln5",
        "outputId": "5d37d2ea-1c1e-4b1e-ca54-fafbf32215dd"
      },
      "outputs": [
        {
          "data": {
            "text/plain": [
              "tensor([0.1000, 0.2000, 0.3000])"
            ]
          },
          "execution_count": 54,
          "metadata": {},
          "output_type": "execute_result"
        }
      ],
      "source": [
        "# TENSOR / 10\n",
        "torch.tensor([1, 2, 3]) / 10"
      ]
    },
    {
      "cell_type": "code",
      "execution_count": 56,
      "metadata": {
        "colab": {
          "base_uri": "https://localhost:8080/"
        },
        "id": "weUVAZp88qdn",
        "outputId": "037af01d-0755-484b-b7c9-216a68df765b"
      },
      "outputs": [
        {
          "name": "stdout",
          "output_type": "stream",
          "text": [
            "tensor([10, 20, 30])\n",
            "tensor([11, 12, 13])\n"
          ]
        }
      ],
      "source": [
        "# Try out PyTorch in-built functions\n",
        "print(torch.mul(torch.tensor([1, 2, 3]), 10))\n",
        "print(torch.add(torch.tensor([1, 2, 3]), 10))"
      ]
    },
    {
      "cell_type": "markdown",
      "metadata": {
        "id": "QxLLuG7b-628"
      },
      "source": [
        "### Matrix multiplication\n",
        "\n",
        "Two main ways of performing multiplication in neural networks and deep learning:\n",
        "1. Element-wise multiplication\n",
        "2. Matrix multiplication (dot product) -  ***a* • *b***\n",
        "\n",
        "More info: https://www.mathsisfun.com/algebra/matrix-multiplying.html\n",
        "\n",
        "There are two main rules that performing matrix mult. need to satisfy:\n",
        "1. The **inner dimensions** must match:\n",
        "* `(3, 2) @ (3, 2)` won't work\n",
        "* `(2, 3) @ (3, 2)` will work\n",
        "* `(3, 2) @ (2, 3)` will work\n",
        "2. The resulting matrix has the shape of the **outer dimensions**:\n",
        "* `(2, 3) @ (3, 2) -> (2, 2)`\n",
        "* `(3, 2) @ (2, 3) -> (3, 3)`\n"
      ]
    },
    {
      "cell_type": "code",
      "execution_count": 74,
      "metadata": {
        "colab": {
          "base_uri": "https://localhost:8080/"
        },
        "id": "UL8vbdIj9AOC",
        "outputId": "79fa294a-5704-4166-b720-2789e9d98a05"
      },
      "outputs": [
        {
          "name": "stdout",
          "output_type": "stream",
          "text": [
            "tensor([1, 2, 3]) * tensor([1, 2, 3])\n",
            "Equals: tensor([1, 4, 9])\n"
          ]
        }
      ],
      "source": [
        "# element wise multiplication\n",
        "TENSOR = torch.tensor([1, 2, 3])\n",
        "print(TENSOR, \"*\", TENSOR)\n",
        "print(f\"Equals: {TENSOR * TENSOR}\")"
      ]
    },
    {
      "cell_type": "code",
      "execution_count": 73,
      "metadata": {
        "colab": {
          "base_uri": "https://localhost:8080/"
        },
        "id": "HUg2PRu3A52t",
        "outputId": "719d52d9-adff-449e-ee1c-d5eff882ac12"
      },
      "outputs": [
        {
          "data": {
            "text/plain": [
              "tensor(14)"
            ]
          },
          "execution_count": 73,
          "metadata": {},
          "output_type": "execute_result"
        }
      ],
      "source": [
        "# matrix mult\n",
        "torch.matmul(TENSOR, TENSOR)"
      ]
    },
    {
      "cell_type": "code",
      "execution_count": 81,
      "metadata": {
        "colab": {
          "base_uri": "https://localhost:8080/"
        },
        "id": "jt1JxinyCelq",
        "outputId": "3cf34d73-c2e0-4a88-f21b-58faa98b0b0d"
      },
      "outputs": [
        {
          "name": "stdout",
          "output_type": "stream",
          "text": [
            "tensor(14)\n",
            "CPU times: user 527 µs, sys: 0 ns, total: 527 µs\n",
            "Wall time: 535 µs\n"
          ]
        }
      ],
      "source": [
        "%%time\n",
        "print(TENSOR @ TENSOR)"
      ]
    },
    {
      "cell_type": "code",
      "execution_count": 77,
      "metadata": {
        "colab": {
          "base_uri": "https://localhost:8080/"
        },
        "id": "Td4a4NRbBDHR",
        "outputId": "9f38b294-5e2c-4271-e43b-e2c1d8c5b45b"
      },
      "outputs": [
        {
          "name": "stdout",
          "output_type": "stream",
          "text": [
            "tensor(14)\n",
            "CPU times: user 1.39 ms, sys: 24 µs, total: 1.42 ms\n",
            "Wall time: 1.44 ms\n"
          ]
        }
      ],
      "source": [
        "%%time\n",
        "value = 0\n",
        "for i in range(len(TENSOR)):\n",
        "  value += TENSOR[i] * TENSOR[i]\n",
        "print(value)"
      ]
    },
    {
      "cell_type": "code",
      "execution_count": 78,
      "metadata": {
        "colab": {
          "base_uri": "https://localhost:8080/"
        },
        "id": "RSLs49sKBqqd",
        "outputId": "031535fd-031c-4ebf-f776-64e28f6b675e"
      },
      "outputs": [
        {
          "name": "stdout",
          "output_type": "stream",
          "text": [
            "CPU times: user 74 µs, sys: 5 µs, total: 79 µs\n",
            "Wall time: 84.4 µs\n"
          ]
        },
        {
          "data": {
            "text/plain": [
              "tensor(14)"
            ]
          },
          "execution_count": 78,
          "metadata": {},
          "output_type": "execute_result"
        }
      ],
      "source": [
        "%%time\n",
        "torch.matmul(TENSOR, TENSOR)"
      ]
    }
  ],
  "metadata": {
    "colab": {
      "gpuType": "T4",
      "provenance": []
    },
    "kernelspec": {
      "display_name": "Python 3",
      "name": "python3"
    },
    "language_info": {
      "name": "python"
    }
  },
  "nbformat": 4,
  "nbformat_minor": 0
}
